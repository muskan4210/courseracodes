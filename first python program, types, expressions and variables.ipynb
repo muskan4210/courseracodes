{
 "cells": [
  {
   "cell_type": "code",
   "execution_count": 1,
   "id": "07a5a6c3",
   "metadata": {},
   "outputs": [
    {
     "name": "stdout",
     "output_type": "stream",
     "text": [
      "Hello World\n"
     ]
    }
   ],
   "source": [
    "print('Hello World')"
   ]
  },
  {
   "cell_type": "code",
   "execution_count": 2,
   "id": "2215dd76",
   "metadata": {},
   "outputs": [
    {
     "name": "stdout",
     "output_type": "stream",
     "text": [
      "3.9.7 (default, Sep 16 2021, 16:59:28) [MSC v.1916 64 bit (AMD64)]\n"
     ]
    }
   ],
   "source": [
    "import sys\n",
    "print(sys.version)"
   ]
  },
  {
   "cell_type": "code",
   "execution_count": 3,
   "id": "c8cbdb7f",
   "metadata": {},
   "outputs": [],
   "source": [
    "#It is a comment in python"
   ]
  },
  {
   "cell_type": "code",
   "execution_count": 4,
   "id": "e715032c",
   "metadata": {},
   "outputs": [
    {
     "data": {
      "text/plain": [
       "11"
      ]
     },
     "execution_count": 4,
     "metadata": {},
     "output_type": "execute_result"
    }
   ],
   "source": [
    "11 "
   ]
  },
  {
   "cell_type": "code",
   "execution_count": 5,
   "id": "668e937f",
   "metadata": {},
   "outputs": [
    {
     "data": {
      "text/plain": [
       "2.14"
      ]
     },
     "execution_count": 5,
     "metadata": {},
     "output_type": "execute_result"
    }
   ],
   "source": [
    "2.14"
   ]
  },
  {
   "cell_type": "code",
   "execution_count": 6,
   "id": "a402b816",
   "metadata": {},
   "outputs": [
    {
     "data": {
      "text/plain": [
       "'Hello Python 101 !'"
      ]
     },
     "execution_count": 6,
     "metadata": {},
     "output_type": "execute_result"
    }
   ],
   "source": [
    "\"Hello Python 101 !\""
   ]
  },
  {
   "cell_type": "code",
   "execution_count": 7,
   "id": "a60b95c2",
   "metadata": {},
   "outputs": [
    {
     "data": {
      "text/plain": [
       "int"
      ]
     },
     "execution_count": 7,
     "metadata": {},
     "output_type": "execute_result"
    }
   ],
   "source": [
    "type(11)"
   ]
  },
  {
   "cell_type": "code",
   "execution_count": 8,
   "id": "1d73b048",
   "metadata": {},
   "outputs": [
    {
     "data": {
      "text/plain": [
       "float"
      ]
     },
     "execution_count": 8,
     "metadata": {},
     "output_type": "execute_result"
    }
   ],
   "source": [
    "type(2.14)"
   ]
  },
  {
   "cell_type": "code",
   "execution_count": 9,
   "id": "8fbbc84b",
   "metadata": {},
   "outputs": [
    {
     "data": {
      "text/plain": [
       "str"
      ]
     },
     "execution_count": 9,
     "metadata": {},
     "output_type": "execute_result"
    }
   ],
   "source": [
    "type(\"Hello Python 101\")"
   ]
  },
  {
   "cell_type": "code",
   "execution_count": 10,
   "id": "f75d5abd",
   "metadata": {},
   "outputs": [
    {
     "data": {
      "text/plain": [
       "float"
      ]
     },
     "execution_count": 10,
     "metadata": {},
     "output_type": "execute_result"
    }
   ],
   "source": [
    "type(12.0)"
   ]
  },
  {
   "cell_type": "code",
   "execution_count": 11,
   "id": "d49648a7",
   "metadata": {},
   "outputs": [
    {
     "data": {
      "text/plain": [
       "int"
      ]
     },
     "execution_count": 11,
     "metadata": {},
     "output_type": "execute_result"
    }
   ],
   "source": [
    "type(-1)"
   ]
  },
  {
   "cell_type": "code",
   "execution_count": 12,
   "id": "1643176e",
   "metadata": {},
   "outputs": [
    {
     "data": {
      "text/plain": [
       "int"
      ]
     },
     "execution_count": 12,
     "metadata": {},
     "output_type": "execute_result"
    }
   ],
   "source": [
    "type(0)\n",
    "type(1)"
   ]
  },
  {
   "cell_type": "code",
   "execution_count": 13,
   "id": "6b4b65c8",
   "metadata": {},
   "outputs": [
    {
     "data": {
      "text/plain": [
       "sys.float_info(max=1.7976931348623157e+308, max_exp=1024, max_10_exp=308, min=2.2250738585072014e-308, min_exp=-1021, min_10_exp=-307, dig=15, mant_dig=53, epsilon=2.220446049250313e-16, radix=2, rounds=1)"
      ]
     },
     "execution_count": 13,
     "metadata": {},
     "output_type": "execute_result"
    }
   ],
   "source": [
    "sys.float_info #system settings about float type"
   ]
  },
  {
   "cell_type": "code",
   "execution_count": 14,
   "id": "e3b11690",
   "metadata": {},
   "outputs": [
    {
     "data": {
      "text/plain": [
       "1"
      ]
     },
     "execution_count": 14,
     "metadata": {},
     "output_type": "execute_result"
    }
   ],
   "source": [
    "float(2)\n",
    "int(1.1)"
   ]
  },
  {
   "cell_type": "code",
   "execution_count": 15,
   "id": "84f2635b",
   "metadata": {},
   "outputs": [
    {
     "data": {
      "text/plain": [
       "2.0"
      ]
     },
     "execution_count": 15,
     "metadata": {},
     "output_type": "execute_result"
    }
   ],
   "source": [
    "float(2)"
   ]
  },
  {
   "cell_type": "code",
   "execution_count": 16,
   "id": "0d471911",
   "metadata": {},
   "outputs": [
    {
     "ename": "ValueError",
     "evalue": "invalid literal for int() with base 10: '1 and 2'",
     "output_type": "error",
     "traceback": [
      "\u001b[1;31m---------------------------------------------------------------------------\u001b[0m",
      "\u001b[1;31mValueError\u001b[0m                                Traceback (most recent call last)",
      "\u001b[1;32m~\\AppData\\Local\\Temp/ipykernel_5768/1567842287.py\u001b[0m in \u001b[0;36m<module>\u001b[1;34m\u001b[0m\n\u001b[1;32m----> 1\u001b[1;33m \u001b[0mint\u001b[0m\u001b[1;33m(\u001b[0m\u001b[1;34m'1 and 2'\u001b[0m\u001b[1;33m)\u001b[0m\u001b[1;33m\u001b[0m\u001b[1;33m\u001b[0m\u001b[0m\n\u001b[0m",
      "\u001b[1;31mValueError\u001b[0m: invalid literal for int() with base 10: '1 and 2'"
     ]
    }
   ],
   "source": [
    "int('1 and 2')"
   ]
  },
  {
   "cell_type": "code",
   "execution_count": 17,
   "id": "11a7b2a8",
   "metadata": {},
   "outputs": [
    {
     "data": {
      "text/plain": [
       "'1'"
      ]
     },
     "execution_count": 17,
     "metadata": {},
     "output_type": "execute_result"
    }
   ],
   "source": [
    "str(1)"
   ]
  },
  {
   "cell_type": "code",
   "execution_count": 18,
   "id": "de30eeff",
   "metadata": {},
   "outputs": [
    {
     "data": {
      "text/plain": [
       "1"
      ]
     },
     "execution_count": 18,
     "metadata": {},
     "output_type": "execute_result"
    }
   ],
   "source": [
    "# Convert True to int\n",
    "\n",
    "int(True)"
   ]
  },
  {
   "cell_type": "code",
   "execution_count": 19,
   "id": "2e3fc19e",
   "metadata": {},
   "outputs": [
    {
     "data": {
      "text/plain": [
       "True"
      ]
     },
     "execution_count": 19,
     "metadata": {},
     "output_type": "execute_result"
    }
   ],
   "source": [
    "# Convert 1 to boolean\n",
    "\n",
    "bool(1)"
   ]
  },
  {
   "cell_type": "code",
   "execution_count": 21,
   "id": "8007cf3f",
   "metadata": {},
   "outputs": [
    {
     "data": {
      "text/plain": [
       "False"
      ]
     },
     "execution_count": 21,
     "metadata": {},
     "output_type": "execute_result"
    }
   ],
   "source": [
    "# Convert 0 to boolean\n",
    "\n",
    "bool(0)"
   ]
  },
  {
   "cell_type": "code",
   "execution_count": 22,
   "id": "7c2c3b83",
   "metadata": {},
   "outputs": [
    {
     "data": {
      "text/plain": [
       "1.0"
      ]
     },
     "execution_count": 22,
     "metadata": {},
     "output_type": "execute_result"
    }
   ],
   "source": [
    "# Convert True to float\n",
    "\n",
    "float(True)"
   ]
  },
  {
   "cell_type": "code",
   "execution_count": 23,
   "id": "e48a0efb",
   "metadata": {},
   "outputs": [
    {
     "data": {
      "text/plain": [
       "float"
      ]
     },
     "execution_count": 23,
     "metadata": {},
     "output_type": "execute_result"
    }
   ],
   "source": [
    "type(6/2)"
   ]
  },
  {
   "cell_type": "code",
   "execution_count": 24,
   "id": "ea118c46",
   "metadata": {},
   "outputs": [
    {
     "data": {
      "text/plain": [
       "int"
      ]
     },
     "execution_count": 24,
     "metadata": {},
     "output_type": "execute_result"
    }
   ],
   "source": [
    "type(6//2)"
   ]
  },
  {
   "cell_type": "code",
   "execution_count": 25,
   "id": "4556d02d",
   "metadata": {},
   "outputs": [
    {
     "data": {
      "text/plain": [
       "160"
      ]
     },
     "execution_count": 25,
     "metadata": {},
     "output_type": "execute_result"
    }
   ],
   "source": [
    "# Addition operation expression\n",
    "\n",
    "43 + 60 + 16 + 41"
   ]
  },
  {
   "cell_type": "code",
   "execution_count": 26,
   "id": "1cb7ab92",
   "metadata": {},
   "outputs": [
    {
     "data": {
      "text/plain": [
       "-10"
      ]
     },
     "execution_count": 26,
     "metadata": {},
     "output_type": "execute_result"
    }
   ],
   "source": [
    "# Subtraction operation expression\n",
    "\n",
    "50 - 60"
   ]
  },
  {
   "cell_type": "code",
   "execution_count": 27,
   "id": "440025f0",
   "metadata": {},
   "outputs": [
    {
     "data": {
      "text/plain": [
       "25"
      ]
     },
     "execution_count": 27,
     "metadata": {},
     "output_type": "execute_result"
    }
   ],
   "source": [
    "# Multiplication operation expression\n",
    "\n",
    "5 * 5"
   ]
  },
  {
   "cell_type": "code",
   "execution_count": 28,
   "id": "534993a5",
   "metadata": {},
   "outputs": [
    {
     "data": {
      "text/plain": [
       "5.0"
      ]
     },
     "execution_count": 28,
     "metadata": {},
     "output_type": "execute_result"
    }
   ],
   "source": [
    "# Division operation expression\n",
    "\n",
    "25 / 5"
   ]
  },
  {
   "cell_type": "code",
   "execution_count": 29,
   "id": "e550bd6f",
   "metadata": {},
   "outputs": [
    {
     "data": {
      "text/plain": [
       "4.166666666666667"
      ]
     },
     "execution_count": 29,
     "metadata": {},
     "output_type": "execute_result"
    }
   ],
   "source": [
    "# Division operation expression\n",
    "\n",
    "25 / 6"
   ]
  },
  {
   "cell_type": "code",
   "execution_count": 30,
   "id": "4cc4da15",
   "metadata": {},
   "outputs": [
    {
     "data": {
      "text/plain": [
       "5"
      ]
     },
     "execution_count": 30,
     "metadata": {},
     "output_type": "execute_result"
    }
   ],
   "source": [
    "# Integer division operation expression\n",
    "\n",
    "25 // 5"
   ]
  },
  {
   "cell_type": "code",
   "execution_count": 32,
   "id": "86787b1b",
   "metadata": {},
   "outputs": [
    {
     "data": {
      "text/plain": [
       "2"
      ]
     },
     "execution_count": 32,
     "metadata": {},
     "output_type": "execute_result"
    }
   ],
   "source": [
    "160//60"
   ]
  },
  {
   "cell_type": "code",
   "execution_count": 33,
   "id": "24820cf9",
   "metadata": {},
   "outputs": [],
   "source": [
    "# Store value into variable\n",
    "\n",
    "x = 43 + 60 + 16 + 41"
   ]
  },
  {
   "cell_type": "code",
   "execution_count": 34,
   "id": "ca588138",
   "metadata": {},
   "outputs": [
    {
     "data": {
      "text/plain": [
       "160"
      ]
     },
     "execution_count": 34,
     "metadata": {},
     "output_type": "execute_result"
    }
   ],
   "source": [
    "# Print out the value in variable\n",
    "\n",
    "x"
   ]
  },
  {
   "cell_type": "code",
   "execution_count": 35,
   "id": "40d1825a",
   "metadata": {},
   "outputs": [
    {
     "data": {
      "text/plain": [
       "2.6666666666666665"
      ]
     },
     "execution_count": 35,
     "metadata": {},
     "output_type": "execute_result"
    }
   ],
   "source": [
    "# Use another variable to store the result of the operation between variable and value\n",
    "\n",
    "y = x / 60\n",
    "y"
   ]
  },
  {
   "cell_type": "code",
   "execution_count": 36,
   "id": "aff9c60a",
   "metadata": {},
   "outputs": [
    {
     "data": {
      "text/plain": [
       "142"
      ]
     },
     "execution_count": 36,
     "metadata": {},
     "output_type": "execute_result"
    }
   ],
   "source": [
    "# Name the variables meaningfully\n",
    "\n",
    "total_min = 43 + 42 + 57 # Total length of albums in minutes\n",
    "total_min"
   ]
  },
  {
   "cell_type": "code",
   "execution_count": 37,
   "id": "f04ef910",
   "metadata": {},
   "outputs": [
    {
     "data": {
      "text/plain": [
       "2.3666666666666667"
      ]
     },
     "execution_count": 37,
     "metadata": {},
     "output_type": "execute_result"
    }
   ],
   "source": [
    "# Name the variables meaningfully\n",
    "\n",
    "total_hours = total_min / 60 # Total length of albums in hours \n",
    "total_hours"
   ]
  },
  {
   "cell_type": "code",
   "execution_count": 38,
   "id": "8d9e1689",
   "metadata": {},
   "outputs": [
    {
     "data": {
      "text/plain": [
       "2.3666666666666667"
      ]
     },
     "execution_count": 38,
     "metadata": {},
     "output_type": "execute_result"
    }
   ],
   "source": [
    "# Complicate expression\n",
    "\n",
    "total_hours = (43 + 42 + 57) / 60  # Total hours in a single expression\n",
    "total_hours"
   ]
  },
  {
   "cell_type": "code",
   "execution_count": 39,
   "id": "4adfd31f",
   "metadata": {},
   "outputs": [
    {
     "data": {
      "text/plain": [
       "7"
      ]
     },
     "execution_count": 39,
     "metadata": {},
     "output_type": "execute_result"
    }
   ],
   "source": [
    "x=3+2*2\n",
    "x"
   ]
  },
  {
   "cell_type": "code",
   "execution_count": 40,
   "id": "ff72d988",
   "metadata": {},
   "outputs": [
    {
     "data": {
      "text/plain": [
       "10"
      ]
     },
     "execution_count": 40,
     "metadata": {},
     "output_type": "execute_result"
    }
   ],
   "source": [
    "y = (3 + 2) * 2\n",
    "y"
   ]
  },
  {
   "cell_type": "code",
   "execution_count": 41,
   "id": "d7e5e094",
   "metadata": {},
   "outputs": [
    {
     "data": {
      "text/plain": [
       "17"
      ]
     },
     "execution_count": 41,
     "metadata": {},
     "output_type": "execute_result"
    }
   ],
   "source": [
    "z = x + y\n",
    "z"
   ]
  },
  {
   "cell_type": "code",
   "execution_count": null,
   "id": "0e654386",
   "metadata": {},
   "outputs": [],
   "source": []
  }
 ],
 "metadata": {
  "kernelspec": {
   "display_name": "Python 3 (ipykernel)",
   "language": "python",
   "name": "python3"
  },
  "language_info": {
   "codemirror_mode": {
    "name": "ipython",
    "version": 3
   },
   "file_extension": ".py",
   "mimetype": "text/x-python",
   "name": "python",
   "nbconvert_exporter": "python",
   "pygments_lexer": "ipython3",
   "version": "3.9.7"
  }
 },
 "nbformat": 4,
 "nbformat_minor": 5
}
